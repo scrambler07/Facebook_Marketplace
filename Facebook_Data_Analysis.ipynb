{
 "cells": [
  {
   "cell_type": "markdown",
   "id": "655d72e0",
   "metadata": {},
   "source": [
    "# Facebook Marketplace Data Analysis\n",
    "This notebook answers the following:\n",
    "1. How time of upload affects reactions\n",
    "2. Correlation between reactions, comments, shares\n",
    "3. KMeans clustering\n",
    "4. Elbow method\n",
    "5. Count of post types\n",
    "6. Averages per post type"
   ]
  },
  {
   "cell_type": "code",
   "execution_count": null,
   "id": "d9d7cb97",
   "metadata": {},
   "outputs": [],
   "source": [
    "import pandas as pd\n",
    "import matplotlib.pyplot as plt\n",
    "import seaborn as sns\n",
    "from sklearn.cluster import KMeans\n",
    "from sklearn.preprocessing import StandardScaler\n",
    "\n",
    "# Load dataset\n",
    "df = pd.read_csv(\"Facebook_Marketplace_data.csv\")"
   ]
  },
  {
   "cell_type": "markdown",
   "id": "9ce4f1e3",
   "metadata": {},
   "source": [
    "## 1. Effect of Time on `num_reactions`"
   ]
  },
  {
   "cell_type": "code",
   "execution_count": null,
   "id": "b1dd09d7",
   "metadata": {},
   "outputs": [],
   "source": [
    "# Convert 'status_published' to datetime and extract hour\n",
    "df['status_published'] = pd.to_datetime(df['status_published'], errors='coerce')\n",
    "df['publish_hour'] = df['status_published'].dt.hour\n",
    "\n",
    "# Average reactions by hour\n",
    "hourly_reactions = df.groupby('publish_hour')['num_reactions'].mean()\n",
    "\n",
    "# Plot\n",
    "plt.figure(figsize=(10,5))\n",
    "hourly_reactions.plot(kind='bar', color='skyblue')\n",
    "plt.title('Average Number of Reactions by Hour of Post')\n",
    "plt.xlabel('Hour of Day')\n",
    "plt.ylabel('Average Reactions')\n",
    "plt.grid(axis='y')\n",
    "plt.xticks(rotation=0)\n",
    "plt.tight_layout()\n",
    "plt.show()"
   ]
  },
  {
   "cell_type": "markdown",
   "id": "8b37091d",
   "metadata": {},
   "source": [
    "## 2. Correlation Between `num_reactions`, `num_comments`, `num_shares`"
   ]
  },
  {
   "cell_type": "code",
   "execution_count": null,
   "id": "fa32d6c6",
   "metadata": {},
   "outputs": [],
   "source": [
    "engagement_metrics = ['num_reactions', 'num_comments', 'num_shares']\n",
    "correlation = df[engagement_metrics].corr()\n",
    "\n",
    "# Heatmap\n",
    "plt.figure(figsize=(6,4))\n",
    "sns.heatmap(correlation, annot=True, cmap='coolwarm')\n",
    "plt.title('Correlation Between Engagement Metrics')\n",
    "plt.tight_layout()\n",
    "plt.show()"
   ]
  },
  {
   "cell_type": "markdown",
   "id": "851a3f69",
   "metadata": {},
   "source": [
    "## 3. K-Means Clustering"
   ]
  },
  {
   "cell_type": "code",
   "execution_count": null,
   "id": "4a86d197",
   "metadata": {},
   "outputs": [],
   "source": [
    "features = ['status_type', 'num_reactions', 'num_comments', 'num_shares',\n",
    "            'num_likes', 'num_loves', 'num_wows', 'num_hahas', 'num_sads', 'num_angrys']\n",
    "\n",
    "# One-hot encode 'status_type'\n",
    "df_encoded = pd.get_dummies(df[features], columns=['status_type'])\n",
    "\n",
    "# Scale features\n",
    "scaler = StandardScaler()\n",
    "scaled_data = scaler.fit_transform(df_encoded)\n",
    "\n",
    "# KMeans\n",
    "kmeans = KMeans(n_clusters=3, random_state=0)\n",
    "df['cluster'] = kmeans.fit_predict(scaled_data)"
   ]
  },
  {
   "cell_type": "markdown",
   "id": "59bf3268",
   "metadata": {},
   "source": [
    "## 4. Elbow Method for Optimal Clusters"
   ]
  },
  {
   "cell_type": "code",
   "execution_count": null,
   "id": "cfba3445",
   "metadata": {},
   "outputs": [],
   "source": [
    "inertia = []\n",
    "cluster_range = range(1, 11)\n",
    "\n",
    "for k in cluster_range:\n",
    "    kmeans = KMeans(n_clusters=k, random_state=0)\n",
    "    kmeans.fit(scaled_data)\n",
    "    inertia.append(kmeans.inertia_)\n",
    "\n",
    "# Plot\n",
    "plt.figure(figsize=(8,4))\n",
    "plt.plot(cluster_range, inertia, marker='o')\n",
    "plt.title('Elbow Method for Optimal k')\n",
    "plt.xlabel('Number of Clusters')\n",
    "plt.ylabel('Inertia')\n",
    "plt.grid(True)\n",
    "plt.tight_layout()\n",
    "plt.show()"
   ]
  },
  {
   "cell_type": "markdown",
   "id": "afff84f9",
   "metadata": {},
   "source": [
    "## 5. Count of Different Types of Posts"
   ]
  },
  {
   "cell_type": "code",
   "execution_count": null,
   "id": "6090751b",
   "metadata": {},
   "outputs": [],
   "source": [
    "post_type_counts = df['status_type'].value_counts()\n",
    "print(\"Post type counts:\")\n",
    "print(post_type_counts)"
   ]
  },
  {
   "cell_type": "markdown",
   "id": "9689488f",
   "metadata": {},
   "source": [
    "## 6. Average Metrics per Post Type"
   ]
  },
  {
   "cell_type": "code",
   "execution_count": null,
   "id": "86a41e00",
   "metadata": {},
   "outputs": [],
   "source": [
    "avg_metrics = df.groupby('status_type')[['num_reactions', 'num_comments', 'num_shares']].mean()\n",
    "print(\"Average reactions, comments, and shares per post type:\")\n",
    "print(avg_metrics)"
   ]
  }
 ],
 "metadata": {},
 "nbformat": 4,
 "nbformat_minor": 5
}